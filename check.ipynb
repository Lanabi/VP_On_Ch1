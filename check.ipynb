{
 "cells": [
  {
   "cell_type": "code",
   "execution_count": null,
   "id": "8779a298",
   "metadata": {},
   "outputs": [],
   "source": [
    "# Uncomment to pip install packages if necessary\n",
    "\n",
    "# pip install pandas\n",
    "# pip install pyarrow"
   ]
  },
  {
   "cell_type": "code",
   "execution_count": null,
   "id": "8275bbda",
   "metadata": {},
   "outputs": [],
   "source": [
    "# Import necessary packages\n",
    "\n",
    "import pandas as pd  # for data manipulation and analysis\n",
    "import pickle  # for de-serializing Python object structures\n",
    "import itertools # for efficient looping and list processing\n",
    "import os # to work with the libraries\n",
    "import pyarrow.feather as feather # to work with feather files "
   ]
  },
  {
   "cell_type": "code",
   "execution_count": null,
   "id": "6881143a",
   "metadata": {},
   "outputs": [],
   "source": [
    "# Import file downloaded from the dataverse \n",
    "\n",
    "# Paths to the data\n",
    "\n",
    "# Get the current working directory\n",
    "current_directory = os.getcwd()\n",
    "\n",
    "# Construct the path to the corpus.pkl file\n",
    "corpus_path = os.path.join(current_directory, \"corpus.pkl\")\n",
    "print(corpus_path)\n",
    "\n",
    "# Construct the path to save the file to be used by Rubert-tiny\n",
    "from_rubert_path = os.path.join(current_directory, \"from_rubert.pkl\")\n",
    "print(from_rubert_path)\n",
    "\n",
    "# Construct the path to save the file to be used by Newsmap\n",
    "from_newsmap_path = os.path.join(current_directory, \"from_newsmap.feather\")\n",
    "print(from_newsmap_path)"
   ]
  },
  {
   "cell_type": "code",
   "execution_count": null,
   "id": "08192601",
   "metadata": {},
   "outputs": [],
   "source": [
    "# Read the files\n",
    "\n",
    "df = pd.read_pickle(corpus_path)\n",
    "from_rubert = pd.read_pickle(from_rubert_path)\n",
    "from_newsmap = pd.read_feather(from_newsmap_path)"
   ]
  },
  {
   "cell_type": "code",
   "execution_count": null,
   "id": "24b174fb",
   "metadata": {},
   "outputs": [],
   "source": [
    "# First entries in the dataframe\n",
    "# Dataframe published on dataverse\n",
    "\n",
    "df.head()"
   ]
  },
  {
   "cell_type": "code",
   "execution_count": null,
   "id": "bb7544a2",
   "metadata": {},
   "outputs": [],
   "source": [
    "# First entries in the dataframe\n",
    "# corpus labelled by Rubert \n",
    "\n",
    "from_rubert.head()"
   ]
  },
  {
   "cell_type": "code",
   "execution_count": null,
   "id": "91526745",
   "metadata": {},
   "outputs": [],
   "source": [
    "# First entries in the dataframe\n",
    "# labelled byNewsmap\n",
    "\n",
    "from_newsmap.head()"
   ]
  },
  {
   "cell_type": "code",
   "execution_count": null,
   "id": "c0ee8b5a",
   "metadata": {},
   "outputs": [],
   "source": [
    "# Check if the labelling from Rubert tiny is the same as the labelling presented in corpus.pkl\n",
    "\n",
    "are_equal = from_rubert['labels'].equals(df['sentiment_labels'])\n",
    "print(are_equal)\n",
    "\n",
    "are_equal = from_rubert['score'].equals(df['sentiment_score'])\n",
    "print(are_equal)"
   ]
  },
  {
   "cell_type": "code",
   "execution_count": null,
   "id": "53ad9dae",
   "metadata": {},
   "outputs": [],
   "source": [
    "# Find the mismatches from the new labelling by Newsmap and the labelling in corpus.pkl\n",
    "\n",
    "# Calculate the mismatches\n",
    "mismatches = list(from_newsmap['country']) != list(df['country'])\n",
    "\n",
    "# Proportion of the mismatches\n",
    "\n",
    "# Initialize mismatch counter\n",
    "num_mismatches = 0\n",
    "\n",
    "# Iterate through both Series using zip\n",
    "for country_from_newsmap, country_df in zip(from_newsmap['country'], df['country']):\n",
    "    if country_from_newsmap != country_df:\n",
    "        num_mismatches += 1\n",
    "\n",
    "print(round(num_mismatches/df.shape[0]*100),\"%\")"
   ]
  }
 ],
 "metadata": {
  "kernelspec": {
   "display_name": "Python 3 (ipykernel)",
   "language": "python",
   "name": "python3"
  },
  "language_info": {
   "codemirror_mode": {
    "name": "ipython",
    "version": 3
   },
   "file_extension": ".py",
   "mimetype": "text/x-python",
   "name": "python",
   "nbconvert_exporter": "python",
   "pygments_lexer": "ipython3",
   "version": "3.9.13"
  }
 },
 "nbformat": 4,
 "nbformat_minor": 5
}
