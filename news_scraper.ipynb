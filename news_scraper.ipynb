{
 "cells": [
  {
   "cell_type": "code",
   "execution_count": null,
   "metadata": {},
   "outputs": [],
   "source": [
    "import requests  # Import requests module for making HTTP requests\n",
    "import os        # Import os module for interacting with the operating system\n",
    "import time      # Import time module for adding delays in the script\n",
    "from bs4 import BeautifulSoup  # Import BeautifulSoup for parsing HTML and XML documents\n",
    "import pandas as pd  # Import pandas for data manipulation and analysis\n",
    "import glob  # Import glob for file pattern matching and retrieval"
   ]
  },
  {
   "cell_type": "code",
   "execution_count": null,
   "metadata": {},
   "outputs": [],
   "source": [
    "# Insert absolute paths\n",
    "\n",
    "data_base_path = '[set_the_path]'\n",
    "path_to_save = '[set_the_path]'"
   ]
  },
  {
   "cell_type": "code",
   "execution_count": null,
   "metadata": {},
   "outputs": [],
   "source": [
    "def scr(name):\n",
    "    '''Take the name of a .js file and return a df with scraped data'''\n",
    "    # Open and read the .js file\n",
    "    with open(name, 'r') as f:\n",
    "        data = ' '.join([l for l in f.readlines()])\n",
    "\n",
    "        # Extract relevant data sections\n",
    "        start = data.find('<article')\n",
    "        end = data.rfind('<\\/button>\");') + 10\n",
    "        data = data[start: end]\n",
    "        data = data.replace(r'\\n', '\\n')\n",
    "        data = data.replace('\\\\', '')\n",
    "\n",
    "    # Parse HTML using BeautifulSoup to extract news links\n",
    "    soup = BeautifulSoup(data)\n",
    "    lks = [a['href'] for a in soup.find_all('a', href=True)]  \n",
    "    date = []\n",
    "    title = []\n",
    "    text = []\n",
    "\n",
    "    # Iterate through each news link and extract date, title, and text\n",
    "    for link in lks:\n",
    "        try:\n",
    "            page = requests.get(link)\n",
    "            soup = BeautifulSoup(page.text)\n",
    "            try:\n",
    "                ttl = soup.find(\"title\").text\n",
    "            except:\n",
    "                ttl = 'No title'\n",
    "            try:\n",
    "                txt = ' '.join([i.text for i in soup.find_all(\"p\")]) \n",
    "            except:\n",
    "                txt = 'No text'\n",
    "            time.sleep(5)  # Pause for 5 seconds to avoid overloading the server\n",
    "        except:\n",
    "            ttl = 'No title'\n",
    "            txt = 'No text'\n",
    "        \n",
    "        # Extract date from the news link\n",
    "        dt = link.strip('https://www.1tv.ru/news/').split('/')[0]\n",
    "        date.append(dt)\n",
    "        title.append(ttl)\n",
    "        text.append(txt)\n",
    "    \n",
    "    # Create a DataFrame with extracted data\n",
    "    df = pd.DataFrame(columns=['link'])\n",
    "    df['date'] = date\n",
    "    df['link'] = lks\n",
    "    df['title'] = title\n",
    "    df['text'] = text\n",
    "    return df\n",
    "\n",
    "# List all .js documents in the folder using os.walk and glob\n",
    "data_base_path = './data/'  # Directory containing .js files\n",
    "jss = []\n",
    "for root, dirs, files in os.walk(data_base_path):\n",
    "    jss += glob.glob(os.path.join(root, '*.js'))\n",
    "\n",
    "# Create an empty DataFrame\n",
    "df1 = pd.DataFrame(columns=['link', 'date', 'title', 'text'])\n",
    "\n",
    "# Apply the scraping function to each .js file and concatenate results\n",
    "for i in jss:\n",
    "    df = scr(i)\n",
    "    df1 = pd.concat([df1, df], axis=0)\n",
    "\n",
    "# Save the DataFrame as a pickle file\n",
    "df1.to_pickle('path_to_save.pkl')"
   ]
  }
 ],
 "metadata": {
  "kernelspec": {
   "display_name": "Python 3 (ipykernel)",
   "language": "python",
   "name": "python3"
  },
  "language_info": {
   "codemirror_mode": {
    "name": "ipython",
    "version": 3
   },
   "file_extension": ".py",
   "mimetype": "text/x-python",
   "name": "python",
   "nbconvert_exporter": "python",
   "pygments_lexer": "ipython3",
   "version": "3.9.13"
  }
 },
 "nbformat": 4,
 "nbformat_minor": 2
}
