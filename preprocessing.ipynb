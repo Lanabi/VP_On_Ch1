{
 "cells": [
  {
   "cell_type": "code",
   "execution_count": null,
   "id": "77b2b54c",
   "metadata": {},
   "outputs": [],
   "source": [
    "# Uncomment to pip install packages if necessary\n",
    "\n",
    "# pip install pandas\n",
    "# pip install pyarrow"
   ]
  },
  {
   "cell_type": "code",
   "execution_count": 1,
   "id": "41256327",
   "metadata": {},
   "outputs": [],
   "source": [
    "# Import necessary packages\n",
    "\n",
    "import pandas as pd  # for data manipulation and analysis\n",
    "import pickle  # for de-serializing Python object structures\n",
    "import itertools # for efficient looping and list processing\n",
    "import os # to work with the libraries\n",
    "import pyarrow.feather as feather # to work with feather files "
   ]
  },
  {
   "cell_type": "code",
   "execution_count": 9,
   "id": "4b2f81c2",
   "metadata": {},
   "outputs": [
    {
     "name": "stdout",
     "output_type": "stream",
     "text": [
      "/Users/lanabilalova/Desktop/REVISED3/data_and_code/corpus.pkl\n",
      "/Users/lanabilalova/Desktop/REVISED3/data_and_code/for_rubert.pkl\n",
      "/Users/lanabilalova/Desktop/REVISED3/data_and_code/for_newsmap.feather\n"
     ]
    }
   ],
   "source": [
    "# Import file dowloaded from the dataverse \n",
    "\n",
    "# Paths to the data\n",
    "\n",
    "# Get the current working directory\n",
    "current_directory = os.getcwd()\n",
    "\n",
    "# Construct the path to the corpus.pkl file\n",
    "corpus_path = os.path.join(current_directory, \"corpus.pkl\")\n",
    "print(corpus_path)\n",
    "\n",
    "# Construct the path to save the file to be used by Rubert-tiny\n",
    "for_rubert_path = os.path.join(current_directory, \"for_rubert.pkl\")\n",
    "print(for_rubert_path)\n",
    "\n",
    "# Construct the path to save the file to be used by Newsmap\n",
    "for_newsmap_path = os.path.join(current_directory, \"for_newsmap.feather\")\n",
    "print(for_newsmap_path)"
   ]
  },
  {
   "cell_type": "code",
   "execution_count": 3,
   "id": "0975bc45",
   "metadata": {},
   "outputs": [],
   "source": [
    "# Read the corpus dowloaded from dataverse\n",
    "\n",
    "df = pd.read_pickle(corpus_path)"
   ]
  },
  {
   "cell_type": "code",
   "execution_count": 4,
   "id": "f3f23633",
   "metadata": {},
   "outputs": [
    {
     "data": {
      "text/html": [
       "<div>\n",
       "<style scoped>\n",
       "    .dataframe tbody tr th:only-of-type {\n",
       "        vertical-align: middle;\n",
       "    }\n",
       "\n",
       "    .dataframe tbody tr th {\n",
       "        vertical-align: top;\n",
       "    }\n",
       "\n",
       "    .dataframe thead th {\n",
       "        text-align: right;\n",
       "    }\n",
       "</style>\n",
       "<table border=\"1\" class=\"dataframe\">\n",
       "  <thead>\n",
       "    <tr style=\"text-align: right;\">\n",
       "      <th></th>\n",
       "      <th>dates</th>\n",
       "      <th>text</th>\n",
       "      <th>country</th>\n",
       "      <th>sentiment_labels</th>\n",
       "      <th>sentiment_score</th>\n",
       "    </tr>\n",
       "  </thead>\n",
       "  <tbody>\n",
       "    <tr>\n",
       "      <th>0</th>\n",
       "      <td>1999-12-31</td>\n",
       "      <td>Борис Ельцин провел в Кремле ряд рабочих встре...</td>\n",
       "      <td>ru</td>\n",
       "      <td>neutral</td>\n",
       "      <td>0.030613</td>\n",
       "    </tr>\n",
       "    <tr>\n",
       "      <th>1</th>\n",
       "      <td>1999-12-31</td>\n",
       "      <td>«Единство» с пониманием и уважением относится ...</td>\n",
       "      <td>ru</td>\n",
       "      <td>neutral</td>\n",
       "      <td>-0.339609</td>\n",
       "    </tr>\n",
       "    <tr>\n",
       "      <th>2</th>\n",
       "      <td>1999-12-31</td>\n",
       "      <td>Объявив об уходе в отставку, президент РФ преп...</td>\n",
       "      <td>ru</td>\n",
       "      <td>neutral</td>\n",
       "      <td>-0.515294</td>\n",
       "    </tr>\n",
       "    <tr>\n",
       "      <th>3</th>\n",
       "      <td>1999-12-31</td>\n",
       "      <td>Заявление Ельцина об уходе в отставку вызвало ...</td>\n",
       "      <td>ru</td>\n",
       "      <td>negative</td>\n",
       "      <td>-0.966141</td>\n",
       "    </tr>\n",
       "    <tr>\n",
       "      <th>4</th>\n",
       "      <td>1999-12-31</td>\n",
       "      <td>Решение об отставке Борис Ельцин принял накану...</td>\n",
       "      <td>ru</td>\n",
       "      <td>neutral</td>\n",
       "      <td>-0.500934</td>\n",
       "    </tr>\n",
       "  </tbody>\n",
       "</table>\n",
       "</div>"
      ],
      "text/plain": [
       "        dates                                               text country  \\\n",
       "0  1999-12-31  Борис Ельцин провел в Кремле ряд рабочих встре...      ru   \n",
       "1  1999-12-31  «Единство» с пониманием и уважением относится ...      ru   \n",
       "2  1999-12-31  Объявив об уходе в отставку, президент РФ преп...      ru   \n",
       "3  1999-12-31  Заявление Ельцина об уходе в отставку вызвало ...      ru   \n",
       "4  1999-12-31  Решение об отставке Борис Ельцин принял накану...      ru   \n",
       "\n",
       "  sentiment_labels  sentiment_score  \n",
       "0          neutral         0.030613  \n",
       "1          neutral        -0.339609  \n",
       "2          neutral        -0.515294  \n",
       "3         negative        -0.966141  \n",
       "4          neutral        -0.500934  "
      ]
     },
     "execution_count": 4,
     "metadata": {},
     "output_type": "execute_result"
    }
   ],
   "source": [
    "# Display the first few rows of the corpus dataframe\n",
    "\n",
    "df.head()\n",
    "\n",
    "# The file already has the sentiment labels (assigned by Rubert-tiny), \n",
    "# sentiment scores (assigned by Rubert-tiny), and labels 'country' (assigned by Newsmap)\n",
    "\n",
    "# These need to be re-created (reproduced)"
   ]
  },
  {
   "cell_type": "code",
   "execution_count": 5,
   "id": "9fe08834",
   "metadata": {},
   "outputs": [
    {
     "data": {
      "text/html": [
       "<div>\n",
       "<style scoped>\n",
       "    .dataframe tbody tr th:only-of-type {\n",
       "        vertical-align: middle;\n",
       "    }\n",
       "\n",
       "    .dataframe tbody tr th {\n",
       "        vertical-align: top;\n",
       "    }\n",
       "\n",
       "    .dataframe thead th {\n",
       "        text-align: right;\n",
       "    }\n",
       "</style>\n",
       "<table border=\"1\" class=\"dataframe\">\n",
       "  <thead>\n",
       "    <tr style=\"text-align: right;\">\n",
       "      <th></th>\n",
       "      <th>dates</th>\n",
       "      <th>text</th>\n",
       "    </tr>\n",
       "  </thead>\n",
       "  <tbody>\n",
       "    <tr>\n",
       "      <th>0</th>\n",
       "      <td>1999-12-31</td>\n",
       "      <td>Борис Ельцин провел в Кремле ряд рабочих встре...</td>\n",
       "    </tr>\n",
       "    <tr>\n",
       "      <th>1</th>\n",
       "      <td>1999-12-31</td>\n",
       "      <td>«Единство» с пониманием и уважением относится ...</td>\n",
       "    </tr>\n",
       "    <tr>\n",
       "      <th>2</th>\n",
       "      <td>1999-12-31</td>\n",
       "      <td>Объявив об уходе в отставку, президент РФ преп...</td>\n",
       "    </tr>\n",
       "    <tr>\n",
       "      <th>3</th>\n",
       "      <td>1999-12-31</td>\n",
       "      <td>Заявление Ельцина об уходе в отставку вызвало ...</td>\n",
       "    </tr>\n",
       "    <tr>\n",
       "      <th>4</th>\n",
       "      <td>1999-12-31</td>\n",
       "      <td>Решение об отставке Борис Ельцин принял накану...</td>\n",
       "    </tr>\n",
       "  </tbody>\n",
       "</table>\n",
       "</div>"
      ],
      "text/plain": [
       "        dates                                               text\n",
       "0  1999-12-31  Борис Ельцин провел в Кремле ряд рабочих встре...\n",
       "1  1999-12-31  «Единство» с пониманием и уважением относится ...\n",
       "2  1999-12-31  Объявив об уходе в отставку, президент РФ преп...\n",
       "3  1999-12-31  Заявление Ельцина об уходе в отставку вызвало ...\n",
       "4  1999-12-31  Решение об отставке Борис Ельцин принял накану..."
      ]
     },
     "execution_count": 5,
     "metadata": {},
     "output_type": "execute_result"
    }
   ],
   "source": [
    "# Create the file to train Rubert-tiny\n",
    "\n",
    "# Keep only dates and texts, not the labels\n",
    "for_rubert = df[['dates', 'text']]\n",
    "\n",
    "# Save the file\n",
    "for_rubert.to_pickle(for_rubert_path)\n",
    "\n",
    "# Display the first few rows of the corpus dataframe\n",
    "for_rubert.head()"
   ]
  },
  {
   "cell_type": "code",
   "execution_count": null,
   "id": "f5bd5077",
   "metadata": {},
   "outputs": [
    {
     "name": "stderr",
     "output_type": "stream",
     "text": [
      "/var/folders/c1/13d3d7gd44gd847nmrsjt1440000gn/T/ipykernel_11988/1132591282.py:9: SettingWithCopyWarning: \n",
      "A value is trying to be set on a copy of a slice from a DataFrame\n",
      "\n",
      "See the caveats in the documentation: https://pandas.pydata.org/pandas-docs/stable/user_guide/indexing.html#returning-a-view-versus-a-copy\n",
      "  for_newsmap.loc[i, 'text'] = for_newsmap.loc[i, 'text'].replace('Путин', '')\n"
     ]
    }
   ],
   "source": [
    "# Prepare the file for Newsmap\n",
    "\n",
    "# Keep only dates and texts, not the labels\n",
    "for_newsmap = df[['dates', 'text']]\n",
    "\n",
    "# Drop the word 'Putin' from the texts as the word may because additional predictor of the contry-topic\n",
    "# and influence the results\n",
    "for i in range(len(for_newsmap)):\n",
    "    for_newsmap.loc[i, 'text'] = for_newsmap.loc[i, 'text'].replace('Путин', '')\n",
    "\n",
    "# Save the file to feather format\n",
    "feather.write_feather(for_newsmap, for_newsmap_path)\n",
    "    \n",
    "# Display the first few rows of the corpus dataframe\n",
    "for_newsmap.head()"
   ]
  }
 ],
 "metadata": {
  "kernelspec": {
   "display_name": "Python 3 (ipykernel)",
   "language": "python",
   "name": "python3"
  },
  "language_info": {
   "codemirror_mode": {
    "name": "ipython",
    "version": 3
   },
   "file_extension": ".py",
   "mimetype": "text/x-python",
   "name": "python",
   "nbconvert_exporter": "python",
   "pygments_lexer": "ipython3",
   "version": "3.9.13"
  }
 },
 "nbformat": 4,
 "nbformat_minor": 5
}
